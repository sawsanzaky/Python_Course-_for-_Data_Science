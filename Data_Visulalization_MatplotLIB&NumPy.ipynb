{
  "nbformat": 4,
  "nbformat_minor": 0,
  "metadata": {
    "colab": {
      "name": "Data_Visulalization_MatplotLIB&NumPy.ipynb",
      "provenance": [],
      "authorship_tag": "ABX9TyO86oBRLmLGojvwyLcIRHNB",
      "include_colab_link": true
    },
    "kernelspec": {
      "name": "python3",
      "display_name": "Python 3"
    },
    "language_info": {
      "name": "python"
    }
  },
  "cells": [
    {
      "cell_type": "markdown",
      "metadata": {
        "id": "view-in-github",
        "colab_type": "text"
      },
      "source": [
        "<a href=\"https://colab.research.google.com/github/sawsanzaky/Python_Course-_for-_Data_Science/blob/main/Data_Visulalization_MatplotLIB%26NumPy.ipynb\" target=\"_parent\"><img src=\"https://colab.research.google.com/assets/colab-badge.svg\" alt=\"Open In Colab\"/></a>"
      ]
    },
    {
      "cell_type": "markdown",
      "source": [
        "***Numpy Library***"
      ],
      "metadata": {
        "id": "wnfBKLUp0UML"
      }
    },
    {
      "cell_type": "markdown",
      "source": [
        "*Arrays are very frequently used in data science, where speed and resources are very important.*\n",
        "\n",
        "NumPy is a Python library.\n",
        "\n",
        "NumPy is used for working with arrays.\n",
        "\n",
        "NumPy is short for \"Numerical Python\"."
      ],
      "metadata": {
        "id": "ptRZSbuK0h8N"
      }
    },
    {
      "cell_type": "markdown",
      "source": [
        "\n",
        "\n",
        "---\n",
        "\n",
        "\n",
        "\n",
        "---\n",
        "\n",
        "\n",
        "\n",
        "---\n",
        "\n"
      ],
      "metadata": {
        "id": "ArKG3uuC0cwv"
      }
    },
    {
      "cell_type": "code",
      "source": [
        "import numpy as np\n",
        "\n",
        "arr = np.array([1, 2, 3, 4, 5])\n",
        "\n",
        "print(arr)\n",
        "\n",
        "print(type(arr))"
      ],
      "metadata": {
        "colab": {
          "base_uri": "https://localhost:8080/"
        },
        "id": "6JUzG6Yq0Mjk",
        "outputId": "24202a3a-5179-47e6-b53c-98d5af0882cd"
      },
      "execution_count": 6,
      "outputs": [
        {
          "output_type": "stream",
          "name": "stdout",
          "text": [
            "[1 2 3 4 5]\n",
            "<class 'numpy.ndarray'>\n"
          ]
        }
      ]
    },
    {
      "cell_type": "code",
      "source": [
        "print('shape of array :', arr.shape) # row , column"
      ],
      "metadata": {
        "colab": {
          "base_uri": "https://localhost:8080/"
        },
        "id": "lPwX8HVm0N-H",
        "outputId": "c4cc58d3-5393-4195-877a-d6fd6b466e8c"
      },
      "execution_count": 8,
      "outputs": [
        {
          "output_type": "stream",
          "name": "stdout",
          "text": [
            "shape of array : (5,)\n"
          ]
        }
      ]
    },
    {
      "cell_type": "code",
      "source": [
        "import numpy as np\n",
        "\n",
        "print(np.__version__)"
      ],
      "metadata": {
        "colab": {
          "base_uri": "https://localhost:8080/"
        },
        "id": "ECSiKmZ80OAO",
        "outputId": "6685626a-9ecd-4f96-f0d4-f9798c525c0b"
      },
      "execution_count": 9,
      "outputs": [
        {
          "output_type": "stream",
          "name": "stdout",
          "text": [
            "1.21.6\n"
          ]
        }
      ]
    },
    {
      "cell_type": "code",
      "source": [
        "import numpy as np\n",
        "\n",
        "a = np.array(42)\n",
        "b = np.array([1, 2, 3, 4, 5])\n",
        "c = np.array([[1, 2, 3], [4, 5, 6]])\n",
        "d = np.array([[[1, 2, 3], [4, 5, 6]], [[1, 2, 3], [4, 5, 6]]])\n",
        "\n",
        "print(a.ndim)\n",
        "print(b.ndim)\n",
        "print(c.ndim)\n",
        "print(d.ndim)"
      ],
      "metadata": {
        "colab": {
          "base_uri": "https://localhost:8080/"
        },
        "id": "qckTdzC30OCZ",
        "outputId": "f6c15e0b-07d6-4ff7-ed50-6d2a9283c82d"
      },
      "execution_count": 10,
      "outputs": [
        {
          "output_type": "stream",
          "name": "stdout",
          "text": [
            "0\n",
            "1\n",
            "2\n",
            "3\n"
          ]
        }
      ]
    },
    {
      "cell_type": "code",
      "source": [
        "import numpy as np\n",
        "\n",
        "arr = np.array([1, 2, 3, 4])\n",
        "\n",
        "print( \" index: \" ,arr[0]) "
      ],
      "metadata": {
        "colab": {
          "base_uri": "https://localhost:8080/"
        },
        "id": "Nz-9ggN_0OEs",
        "outputId": "d3eb714f-48b4-410b-9378-403546e46d25"
      },
      "execution_count": 11,
      "outputs": [
        {
          "output_type": "stream",
          "name": "stdout",
          "text": [
            " index:  1\n"
          ]
        }
      ]
    },
    {
      "cell_type": "code",
      "source": [
        "import numpy as np\n",
        "\n",
        "arr = np.array([1, 2, 3, 4])\n",
        "\n",
        "print(arr[2] + arr[3])"
      ],
      "metadata": {
        "colab": {
          "base_uri": "https://localhost:8080/"
        },
        "id": "5YdIOVis0OG2",
        "outputId": "a30cf455-9b3c-4c24-db98-0b9b24bfc814"
      },
      "execution_count": 12,
      "outputs": [
        {
          "output_type": "stream",
          "name": "stdout",
          "text": [
            "7\n"
          ]
        }
      ]
    },
    {
      "cell_type": "markdown",
      "source": [
        "**Access 2-D Arrays**"
      ],
      "metadata": {
        "id": "Qf-KVto32Ppd"
      }
    },
    {
      "cell_type": "code",
      "source": [
        "import numpy as np\n",
        "\n",
        "arr = np.array([[1,2,3,4,5], [6,7,8,9,10]])\n",
        "\n",
        "print('2nd element on 1st row: ', arr[0, 1])"
      ],
      "metadata": {
        "colab": {
          "base_uri": "https://localhost:8080/"
        },
        "id": "TdnaSbXq0OJK",
        "outputId": "30a110bc-5e2c-490a-863b-144c37262abe"
      },
      "execution_count": 13,
      "outputs": [
        {
          "output_type": "stream",
          "name": "stdout",
          "text": [
            "2nd element on 1st row:  2\n"
          ]
        }
      ]
    },
    {
      "cell_type": "code",
      "source": [
        "import numpy as np\n",
        "\n",
        "arr = np.array([[1,2,3,4,5], [6,7,8,9,10]])\n",
        "\n",
        "print('5th element on 2nd row: ', arr[1, 4])"
      ],
      "metadata": {
        "colab": {
          "base_uri": "https://localhost:8080/"
        },
        "id": "tDMOE6RB0ONO",
        "outputId": "2fe615fb-752f-4b6e-a80f-c561f466dabe"
      },
      "execution_count": 14,
      "outputs": [
        {
          "output_type": "stream",
          "name": "stdout",
          "text": [
            "5th element on 2nd row:  10\n"
          ]
        }
      ]
    },
    {
      "cell_type": "markdown",
      "source": [
        "**Access 3-D Arrays**"
      ],
      "metadata": {
        "id": "AQR80HZQ2zeA"
      }
    },
    {
      "cell_type": "code",
      "source": [
        "import numpy as np\n",
        "\n",
        "arr = np.array([[[1, 2, 3], [4, 5, 6]], [[7, 8, 9], [10, 11, 12]]])\n",
        "\n",
        "print(arr[0, 1, 2])"
      ],
      "metadata": {
        "colab": {
          "base_uri": "https://localhost:8080/"
        },
        "id": "QMYW6hoU2YbQ",
        "outputId": "dd7b168e-5143-4ade-8941-05ddd05fed3d"
      },
      "execution_count": 15,
      "outputs": [
        {
          "output_type": "stream",
          "name": "stdout",
          "text": [
            "6\n"
          ]
        }
      ]
    },
    {
      "cell_type": "markdown",
      "source": [
        "**Slicing arrays**"
      ],
      "metadata": {
        "id": "Ak_hm1Rb3F-1"
      }
    },
    {
      "cell_type": "markdown",
      "source": [
        "We pass slice instead of index like this: [start:end].\n",
        "\n",
        "We can also define the step, like this: [start:end:step]."
      ],
      "metadata": {
        "id": "Cg35qmAv7vYp"
      }
    },
    {
      "cell_type": "code",
      "source": [
        "import numpy as np\n",
        "\n",
        "arr = np.array([1, 2, 3, 4, 5, 6, 7])\n",
        "\n",
        "print(arr[1:5])"
      ],
      "metadata": {
        "colab": {
          "base_uri": "https://localhost:8080/"
        },
        "id": "PkGmwMyR2Ye9",
        "outputId": "289100c0-166c-43c0-c424-858bbbfef3ab"
      },
      "execution_count": 16,
      "outputs": [
        {
          "output_type": "stream",
          "name": "stdout",
          "text": [
            "[2 3 4 5]\n"
          ]
        }
      ]
    },
    {
      "cell_type": "code",
      "source": [
        "import numpy as np\n",
        "\n",
        "arr = np.array([1, 2, 3, 4, 5, 6, 7])\n",
        "\n",
        "print(arr[4:])"
      ],
      "metadata": {
        "colab": {
          "base_uri": "https://localhost:8080/"
        },
        "id": "VvEOueB_2Yh7",
        "outputId": "d9d0a804-9abb-486a-d75a-ee2c1490e22c"
      },
      "execution_count": 17,
      "outputs": [
        {
          "output_type": "stream",
          "name": "stdout",
          "text": [
            "[5 6 7]\n"
          ]
        }
      ]
    },
    {
      "cell_type": "code",
      "source": [
        "import numpy as np\n",
        "\n",
        "arr = np.array([1, 2, 3, 4, 5, 6, 7])\n",
        "\n",
        "print(arr[:4])"
      ],
      "metadata": {
        "colab": {
          "base_uri": "https://localhost:8080/"
        },
        "id": "Ws12ns192Yka",
        "outputId": "49c28114-7d97-4009-ab0a-a9bd91a23033"
      },
      "execution_count": 18,
      "outputs": [
        {
          "output_type": "stream",
          "name": "stdout",
          "text": [
            "[1 2 3 4]\n"
          ]
        }
      ]
    },
    {
      "cell_type": "code",
      "source": [
        "import numpy as np\n",
        "\n",
        "arr = np.array([1, 2, 3, 4, 5, 6, 7])\n",
        "\n",
        "print(arr[1:5:2])"
      ],
      "metadata": {
        "colab": {
          "base_uri": "https://localhost:8080/"
        },
        "id": "IpGXuDrR2Ym0",
        "outputId": "3c2fe2fb-b13e-4e05-8b60-2a2923858360"
      },
      "execution_count": 19,
      "outputs": [
        {
          "output_type": "stream",
          "name": "stdout",
          "text": [
            "[2 4]\n"
          ]
        }
      ]
    },
    {
      "cell_type": "markdown",
      "source": [
        "**Slicing 2-D Arrays**"
      ],
      "metadata": {
        "id": "z1Yo21LI8K1k"
      }
    },
    {
      "cell_type": "code",
      "source": [
        "import numpy as np\n",
        "\n",
        "arr = np.array([[1, 2, 3, 4, 5], [6, 7, 8, 9, 10]])\n",
        "\n",
        "print(arr[1, 1:4])"
      ],
      "metadata": {
        "colab": {
          "base_uri": "https://localhost:8080/"
        },
        "id": "D0LOcY718Ibi",
        "outputId": "e9480bbf-8bbc-4fd6-9d10-17eadff9d1b0"
      },
      "execution_count": 20,
      "outputs": [
        {
          "output_type": "stream",
          "name": "stdout",
          "text": [
            "[7 8 9]\n"
          ]
        }
      ]
    },
    {
      "cell_type": "code",
      "source": [
        "import numpy as np\n",
        "\n",
        "arr = np.array([[1, 2, 3, 4, 5], [6, 7, 8, 9, 10]])\n",
        "\n",
        "print(arr[0:2, 2])"
      ],
      "metadata": {
        "colab": {
          "base_uri": "https://localhost:8080/"
        },
        "id": "4M5oWepR2YpI",
        "outputId": "8be2b16c-a925-4fa5-9938-1f264c4da4fe"
      },
      "execution_count": 21,
      "outputs": [
        {
          "output_type": "stream",
          "name": "stdout",
          "text": [
            "[3 8]\n"
          ]
        }
      ]
    },
    {
      "cell_type": "code",
      "source": [
        "import numpy as np\n",
        "\n",
        "arr = np.array([[1, 2, 3, 4, 5], [6, 7, 8, 9, 10]])\n",
        "\n",
        "print(arr[0:2, 1:4])"
      ],
      "metadata": {
        "colab": {
          "base_uri": "https://localhost:8080/"
        },
        "id": "wq9Wk9pq2Yra",
        "outputId": "0d806ff6-cd73-48a7-85cb-a166ca2ec64a"
      },
      "execution_count": 22,
      "outputs": [
        {
          "output_type": "stream",
          "name": "stdout",
          "text": [
            "[[2 3 4]\n",
            " [7 8 9]]\n"
          ]
        }
      ]
    },
    {
      "cell_type": "code",
      "source": [
        "# Python code to perform arithmetic\n",
        "# operations on NumPy array\n",
        "\n",
        "\n",
        "import numpy as np\n",
        "\n",
        "\n",
        "# Initializing the array\n",
        "arr1 = np.arange(4, dtype = np.float_).reshape(2, 2)\n",
        "\n",
        "print('First array:')\n",
        "print(arr1)\n",
        "\n",
        "print('\\nSecond array:')\n",
        "arr2 = np.array([12, 12])\n",
        "print(arr2)\n",
        "\n",
        "print('\\nAdding the two arrays:')\n",
        "print(np.add(arr1, arr2))\n",
        "\n",
        "print('\\nSubtracting the two arrays:')\n",
        "print(np.subtract(arr1, arr2))\n",
        "\n",
        "print('\\nMultiplying the two arrays:')\n",
        "print(np.multiply(arr1, arr2))\n",
        "\n",
        "print('\\nDividing the two arrays:')\n",
        "print(np.divide(arr1, arr2))\n"
      ],
      "metadata": {
        "colab": {
          "base_uri": "https://localhost:8080/"
        },
        "id": "oG9emuIh2Yv5",
        "outputId": "1dbdf5ad-281a-49ec-dc1e-8ba43b24609b"
      },
      "execution_count": 11,
      "outputs": [
        {
          "output_type": "stream",
          "name": "stdout",
          "text": [
            "First array:\n",
            "[[0. 1.]\n",
            " [2. 3.]]\n",
            "\n",
            "Second array:\n",
            "[12 12]\n",
            "\n",
            "Adding the two arrays:\n",
            "[[12. 13.]\n",
            " [14. 15.]]\n",
            "\n",
            "Subtracting the two arrays:\n",
            "[[-12. -11.]\n",
            " [-10.  -9.]]\n",
            "\n",
            "Multiplying the two arrays:\n",
            "[[ 0. 12.]\n",
            " [24. 36.]]\n",
            "\n",
            "Dividing the two arrays:\n",
            "[[0.         0.08333333]\n",
            " [0.16666667 0.25      ]]\n"
          ]
        }
      ]
    },
    {
      "cell_type": "code",
      "execution_count": 1,
      "metadata": {
        "id": "_ugRNwMPlIL_",
        "colab": {
          "base_uri": "https://localhost:8080/",
          "height": 281
        },
        "outputId": "e416e71c-672a-477d-8220-8bc88cd9d435"
      },
      "outputs": [
        {
          "output_type": "display_data",
          "data": {
            "text/plain": [
              "<Figure size 432x288 with 1 Axes>"
            ],
            "image/png": "[encoded data removed]"
          },
          "metadata": {
            "needs_background": "light"
          }
        }
      ],
      "source": [
        "from matplotlib import pyplot as plt\n",
        "import numpy as np\n",
        "\n",
        "# Generate 100 random data points along 3 dimensions\n",
        "x, y, scale = np.random.randn(3, 100)\n",
        "fig, ax = plt.subplots()\n",
        "\n",
        "# Map each onto a scatterplot we'll create with Matplotlib\n",
        "ax.scatter(x=x, y=y, c=scale, s=np.abs(scale)*500)\n",
        "ax.set(title=\"Some random data, FOR Visualization!\")\n",
        "plt.show()"
      ]
    },
    {
      "cell_type": "code",
      "source": [
        "plt.plot([1, 2, 3, 4], [1, 4, 9, 16], 'ro')\n",
        "plt.axis([0, 6, 0, 20])\n",
        "plt.show()"
      ],
      "metadata": {
        "colab": {
          "base_uri": "https://localhost:8080/",
          "height": 269
        },
        "id": "42CiDNj2vATY",
        "outputId": "1e3bd42f-23a2-47f8-ef49-ccbc1d8b0f15"
      },
      "execution_count": 3,
      "outputs": [
        {
          "output_type": "display_data",
          "data": {
            "text/plain": [
              "<Figure size 432x288 with 1 Axes>"
            ],
            "image/png": "[encoded data removed]"
          },
          "metadata": {
            "needs_background": "light"
          }
        }
      ]
    },
    {
      "cell_type": "code",
      "source": [
        "import numpy as np\n",
        "\n",
        "# evenly sampled time at 200ms intervals\n",
        "t = np.arange(0., 5., 0.2)\n",
        "\n",
        "# red dashes, blue squares and green triangles\n",
        "plt.plot(t, t, 'r--', t, t**2, 'bs', t, t**3, 'g^')\n",
        "plt.show()"
      ],
      "metadata": {
        "colab": {
          "base_uri": "https://localhost:8080/",
          "height": 265
        },
        "id": "2pUxxJKHvaa6",
        "outputId": "aac93702-da3e-4c21-a232-74a41f0f59e3"
      },
      "execution_count": 4,
      "outputs": [
        {
          "output_type": "display_data",
          "data": {
            "text/plain": [
              "<Figure size 432x288 with 1 Axes>"
            ],
            "image/png": "[encoded data removed]"
          },
          "metadata": {
            "needs_background": "light"
          }
        }
      ]
    },
    {
      "cell_type": "code",
      "source": [
        "names = ['group_a', 'group_b', 'group_c']\n",
        "values = [1, 10, 100]\n",
        "\n",
        "plt.figure(figsize=(9, 3))\n",
        "\n",
        "plt.subplot(131)\n",
        "plt.bar(names, values)\n",
        "plt.subplot(132)\n",
        "plt.scatter(names, values)\n",
        "plt.subplot(133)\n",
        "plt.plot(names, values)\n",
        "plt.suptitle('Categorical Plotting')\n",
        "plt.show()"
      ],
      "metadata": {
        "colab": {
          "base_uri": "https://localhost:8080/",
          "height": 233
        },
        "id": "g_T9cgSZvexz",
        "outputId": "25ad9d7a-04ef-4607-c7c4-d7b849ba522f"
      },
      "execution_count": 5,
      "outputs": [
        {
          "output_type": "display_data",
          "data": {
            "text/plain": [
              "<Figure size 648x216 with 3 Axes>"
            ],
            "image/png": "[encoded data removed]"
          },
          "metadata": {
            "needs_background": "light"
          }
        }
      ]
    },
    {
      "cell_type": "code",
      "source": [
        "import matplotlib.pyplot as plt\n",
        "import numpy as np\n",
        "\n",
        "ypoints = np.array([3, 8, 1, 10])\n",
        "\n",
        "plt.plot(ypoints, marker = 'o')\n",
        "plt.show()"
      ],
      "metadata": {
        "colab": {
          "base_uri": "https://localhost:8080/",
          "height": 265
        },
        "id": "UANjPN5XvpZd",
        "outputId": "a663a620-504c-4239-8deb-de4e69f925a2"
      },
      "execution_count": 2,
      "outputs": [
        {
          "output_type": "display_data",
          "data": {
            "text/plain": [
              "<Figure size 432x288 with 1 Axes>"
            ],
            "image/png": "[encoded data removed]"
          },
          "metadata": {
            "needs_background": "light"
          }
        }
      ]
    },
    {
      "cell_type": "code",
      "source": [
        "import matplotlib.pyplot as plt\n",
        "import numpy as np\n",
        "\n",
        "ypoints = np.array([3, 8, 1, 10])\n",
        "\n",
        "plt.plot(ypoints, linestyle = 'dotted')\n",
        "plt.show()"
      ],
      "metadata": {
        "colab": {
          "base_uri": "https://localhost:8080/",
          "height": 265
        },
        "id": "_86sc0OIzo2H",
        "outputId": "4ef75786-b803-49e1-abfe-8208ba7a6c78"
      },
      "execution_count": 3,
      "outputs": [
        {
          "output_type": "display_data",
          "data": {
            "text/plain": [
              "<Figure size 432x288 with 1 Axes>"
            ],
            "image/png": "[encoded data removed]"
          },
          "metadata": {
            "needs_background": "light"
          }
        }
      ]
    },
    {
      "cell_type": "code",
      "source": [
        "import matplotlib.pyplot as plt\n",
        "import numpy as np\n",
        "\n",
        "#plot 1:\n",
        "x = np.array([0, 1, 2, 3])\n",
        "y = np.array([3, 8, 1, 10])\n",
        "\n",
        "plt.subplot(1, 2, 1)\n",
        "plt.plot(x,y)\n",
        "\n",
        "#plot 2:\n",
        "x = np.array([0, 1, 2, 3])\n",
        "y = np.array([10, 20, 30, 40])\n",
        "\n",
        "plt.subplot(1, 2, 2)\n",
        "plt.plot(x,y)\n",
        "\n",
        "plt.show()"
      ],
      "metadata": {
        "colab": {
          "base_uri": "https://localhost:8080/",
          "height": 265
        },
        "id": "_Z2RL4Zozui8",
        "outputId": "d107f2c9-2900-4940-c906-3e3876a481b5"
      },
      "execution_count": 4,
      "outputs": [
        {
          "output_type": "display_data",
          "data": {
            "text/plain": [
              "<Figure size 432x288 with 2 Axes>"
            ],
            "image/png": "[encoded data removed]"
          },
          "metadata": {
            "needs_background": "light"
          }
        }
      ]
    },
    {
      "cell_type": "code",
      "source": [
        "import matplotlib.pyplot as plt\n",
        "import numpy as np\n",
        "\n",
        "x = np.array([5,7,8,7,2,17,2,9,4,11,12,9,6])\n",
        "y = np.array([99,86,87,88,111,86,103,87,94,78,77,85,86])\n",
        "\n",
        "plt.scatter(x, y)\n",
        "plt.show()"
      ],
      "metadata": {
        "colab": {
          "base_uri": "https://localhost:8080/",
          "height": 265
        },
        "id": "wjICJgPrz5CL",
        "outputId": "7c808183-e070-4d38-a415-b4798b4a6837"
      },
      "execution_count": 5,
      "outputs": [
        {
          "output_type": "display_data",
          "data": {
            "text/plain": [
              "<Figure size 432x288 with 1 Axes>"
            ],
            "image/png": "[encoded data removed]"
          },
          "metadata": {
            "needs_background": "light"
          }
        }
      ]
    },
    {
      "cell_type": "code",
      "source": [
        "import matplotlib.pyplot as plt\n",
        "import numpy as np\n",
        "\n",
        "x = np.array([\"A\", \"B\", \"C\", \"D\"])\n",
        "y = np.array([3, 8, 1, 10])\n",
        "\n",
        "plt.bar(x,y)\n",
        "plt.show()"
      ],
      "metadata": {
        "colab": {
          "base_uri": "https://localhost:8080/",
          "height": 265
        },
        "id": "EuYmOcigz_by",
        "outputId": "465bc1de-9353-462a-e275-771e0eecb452"
      },
      "execution_count": 6,
      "outputs": [
        {
          "output_type": "display_data",
          "data": {
            "text/plain": [
              "<Figure size 432x288 with 1 Axes>"
            ],
            "image/png": "[encoded data removed]"
          },
          "metadata": {
            "needs_background": "light"
          }
        }
      ]
    },
    {
      "cell_type": "code",
      "source": [
        "import matplotlib.pyplot as plt\n",
        "import numpy as np\n",
        "\n",
        "x = np.random.normal(170, 10, 250)\n",
        "\n",
        "plt.hist(x)\n",
        "plt.show() "
      ],
      "metadata": {
        "colab": {
          "base_uri": "https://localhost:8080/",
          "height": 265
        },
        "id": "Bn9I0G9S0HII",
        "outputId": "a315a2f7-0555-481b-f147-e8d7d72440d9"
      },
      "execution_count": 7,
      "outputs": [
        {
          "output_type": "display_data",
          "data": {
            "text/plain": [
              "<Figure size 432x288 with 1 Axes>"
            ],
            "image/png": "[encoded data removed]"
          },
          "metadata": {
            "needs_background": "light"
          }
        }
      ]
    },
    {
      "cell_type": "code",
      "source": [
        "x"
      ],
      "metadata": {
        "colab": {
          "base_uri": "https://localhost:8080/"
        },
        "id": "tEYHVI2N0TGl",
        "outputId": "298a8ba7-5a65-44b7-c6c5-ea727b52660e"
      },
      "execution_count": 8,
      "outputs": [
        {
          "output_type": "execute_result",
          "data": {
            "text/plain": [
              "array([182.11671404, 167.98105751, 169.98789578, 172.97511128,\n",
              "       160.22349626, 194.08494071, 154.97472274, 165.08628269,\n",
              "       160.47019184, 162.38151709, 164.53229461, 165.62048232,\n",
              "       165.42618999, 171.58575563, 193.52647037, 169.11370949,\n",
              "       170.01213753, 170.42155645, 170.71231479, 174.43204693,\n",
              "       178.89303169, 172.9305792 , 156.83973931, 159.88471861,\n",
              "       188.329562  , 179.71287314, 162.59159111, 174.56171375,\n",
              "       166.82889649, 174.18427321, 179.01256405, 176.35170855,\n",
              "       177.65290632, 152.373241  , 162.73349226, 157.36368329,\n",
              "       173.43720542, 166.44773084, 156.22627713, 189.08839954,\n",
              "       162.95918678, 183.28986733, 159.077523  , 160.06589978,\n",
              "       176.45652484, 163.26763529, 176.79263596, 179.00346813,\n",
              "       161.30432958, 166.70490419, 172.19780935, 160.36074569,\n",
              "       186.78778071, 155.24004472, 180.44491044, 166.63629596,\n",
              "       176.00866967, 176.65360716, 176.73631841, 153.37308533,\n",
              "       161.36308469, 168.62942733, 193.31257695, 161.45705014,\n",
              "       175.67283157, 170.83535994, 161.14079577, 168.28831135,\n",
              "       156.36434159, 156.15286503, 160.01657619, 184.07434334,\n",
              "       163.92742403, 173.02122515, 184.08294595, 173.16750359,\n",
              "       168.69673238, 160.36528184, 187.09801837, 173.07143938,\n",
              "       181.30393325, 175.15494555, 168.17409174, 166.39674305,\n",
              "       193.33793276, 159.51858115, 180.1536838 , 189.27903281,\n",
              "       176.76323939, 162.94055877, 181.47300802, 166.7559556 ,\n",
              "       166.94074597, 178.06020275, 166.11426762, 174.40670271,\n",
              "       170.53044623, 162.9994007 , 182.19066654, 166.4339278 ,\n",
              "       168.40964652, 166.55334767, 156.93978344, 158.8281793 ,\n",
              "       158.12603185, 177.57597789, 169.58013263, 181.37620527,\n",
              "       176.48870664, 155.23720195, 162.69574993, 158.26243576,\n",
              "       189.1737922 , 158.91529111, 177.08012075, 167.3018538 ,\n",
              "       189.50913122, 170.19490989, 178.9948772 , 171.0578583 ,\n",
              "       182.84063312, 170.48508353, 185.87331022, 175.31018553,\n",
              "       158.42909176, 180.46387033, 156.89764519, 172.20635096,\n",
              "       180.19876502, 166.31051106, 181.84834602, 180.68764661,\n",
              "       176.22223645, 172.55556384, 168.37201256, 187.86032497,\n",
              "       174.29798813, 179.06921058, 168.21599681, 168.99347595,\n",
              "       162.31657787, 184.94125517, 171.17370841, 175.5512678 ,\n",
              "       179.10457212, 176.12807439, 169.39847709, 159.41440179,\n",
              "       162.87707312, 169.3279618 , 190.64004286, 164.64109964,\n",
              "       177.12696127, 177.03485377, 171.36401886, 170.77418666,\n",
              "       167.15265556, 162.61220807, 165.83371077, 162.67465098,\n",
              "       181.9867893 , 181.23635509, 166.71363608, 181.44099868,\n",
              "       162.27038008, 149.74523406, 169.52751397, 171.47683595,\n",
              "       167.35033816, 163.48958109, 175.70941839, 173.56800289,\n",
              "       173.65428216, 166.02262828, 162.91378386, 169.75466683,\n",
              "       169.2442317 , 162.22527846, 177.97089634, 157.95154774,\n",
              "       177.04535205, 136.36870711, 172.52094373, 179.00177643,\n",
              "       181.21345214, 169.73761828, 173.27714515, 155.59292607,\n",
              "       191.03497211, 163.67515045, 166.27989071, 175.04135916,\n",
              "       164.49460234, 169.66027903, 180.16991511, 167.39717856,\n",
              "       179.16940846, 179.51528794, 188.39512316, 182.2900126 ,\n",
              "       158.00447576, 175.23730435, 159.63460992, 184.82583695,\n",
              "       159.47299965, 183.26232769, 174.47552131, 175.51004665,\n",
              "       175.98318186, 153.75675066, 169.69093126, 174.31259321,\n",
              "       171.94105583, 169.20769075, 171.53414461, 175.41079953,\n",
              "       161.86963481, 183.94669062, 180.35428173, 173.35413133,\n",
              "       171.63292671, 179.82651252, 189.90109518, 181.74202443,\n",
              "       182.52483728, 170.56070942, 182.57111874, 155.10455877,\n",
              "       184.52496873, 174.04610748, 175.74255033, 167.74459426,\n",
              "       170.2819725 , 187.16543871, 158.61462544, 164.78804173,\n",
              "       171.43424769, 175.55253934, 152.96164571, 172.243004  ,\n",
              "       171.43379557, 170.07185491, 164.77069643, 164.4531346 ,\n",
              "       183.24954354, 158.79142437, 152.02653389, 149.01486335,\n",
              "       163.27888753, 181.71121674])"
            ]
          },
          "metadata": {},
          "execution_count": 8
        }
      ]
    },
    {
      "cell_type": "code",
      "source": [
        "import matplotlib.pyplot as plt\n",
        "import numpy as np\n",
        "\n",
        "y = np.array([35, 25, 25, 15])\n",
        "\n",
        "plt.pie(y)\n",
        "plt.show() "
      ],
      "metadata": {
        "colab": {
          "base_uri": "https://localhost:8080/",
          "height": 248
        },
        "id": "fS5CMFj_0UlV",
        "outputId": "1e0fcf56-7fbc-4825-e29b-b09d7d0db79e"
      },
      "execution_count": 9,
      "outputs": [
        {
          "output_type": "display_data",
          "data": {
            "text/plain": [
              "<Figure size 432x288 with 1 Axes>"
            ],
            "image/png": "[encoded data removed]"
          },
          "metadata": {}
        }
      ]
    },
    {
      "cell_type": "code",
      "source": [
        ""
      ],
      "metadata": {
        "id": "gvAtcxNc0kRf"
      },
      "execution_count": null,
      "outputs": []
    }
  ]
}